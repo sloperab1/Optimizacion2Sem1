{
 "cells": [
  {
   "cell_type": "code",
   "execution_count": 66,
   "metadata": {},
   "outputs": [],
   "source": [
    "import math\n",
    "import sympy as sym\n",
    "from sympy.solvers import solve\n",
    "import time\n",
    "import matplotlib.pyplot as plt\n",
    "from sympy.plotting import plot3d\n",
    "import numpy as np"
   ]
  },
  {
   "cell_type": "code",
   "execution_count": 83,
   "metadata": {},
   "outputs": [
    {
     "name": "stdout",
     "output_type": "stream",
     "text": [
      "Norma 17.08800749063506\n",
      "Iteracion 1 Puntos: 0.5, 1.5 f(x,y): 16.5000000000000.\n",
      "Norma 4.891132578841195\n",
      "Iteracion 2 Puntos: 0.103260869565217, 0.442028985507246 f(x,y): 6.84601449275362.\n",
      "Norma 1.6442530796955486\n",
      "Iteracion 3 Puntos: 0.458919210607462, 0.308657107616405 f(x,y): 5.91708258478685.\n",
      "Norma 0.4706376568693808\n",
      "Iteracion 4 Puntos: 0.420743926718417, 0.206856350578950 f(x,y): 5.82769831038629.\n",
      "Norma 0.1582143612454497\n",
      "Iteracion 5 Puntos: 0.454966308871433, 0.194022957271569 f(x,y): 5.81909752012212.\n",
      "Norma 0.045285994704315186\n",
      "El método converge, mínimo f(x,y): 5.81826992943389\n",
      "Norma 0.045285994704315186\n",
      "Iteracion 7 Puntos: 0.451292982526205, 0.184227420350959 f(x,y): 5.81826992943389.\n",
      "Norma 0.015223802475067121\n",
      "Iteracion 8 Puntos: 0.454585950256963, 0.182992557451925 f(x,y): 5.81819029647852.\n",
      "Norma 0.0043575376649657195\n",
      "Iteracion 9 Puntos: 0.454232493122819, 0.182050005094208 f(x,y): 5.81818263398585.\n",
      "Norma 0.001464874363967281\n",
      "Iteracion 10 Puntos: 0.454549351149456, 0.181931183334219 f(x,y): 5.81818189668063.\n"
     ]
    },
    {
     "data": {
      "image/png": "[encoded data removed]",
      "text/plain": [
       "<Figure size 432x288 with 1 Axes>"
      ]
     },
     "metadata": {
      "needs_background": "light"
     },
     "output_type": "display_data"
    }
   ],
   "source": [
    "#X1 y X2 Iniciales\n",
    "x1i = 0.5\n",
    "x2i = 1.5\n",
    "eps = .05\n",
    "#Definicion de variables\n",
    "x1 = sym.Symbol('x1')\n",
    "x2 = sym.Symbol('x2')\n",
    "lam = sym.Symbol('lam')\n",
    "#Funcion objetivo\n",
    "f = 8*(x1**2) + 6*(x2 ** 2) + 4*(x1 - 1)*(x2 - 2)\n",
    "\n",
    "\n",
    "#Calcular gradiente\n",
    "def gradiente (xn1, xn2):\n",
    "  gx1,gx2 = sym.diff(f,x1),sym.diff(f,x2)\n",
    "  a1,a2 = gx1.subs(x1,xn1),gx2.subs(x1,xn1)\n",
    "  return a1.subs(x2,xn2), a2.subs(x2,xn2)\n",
    "\n",
    "#Metodo principal: Implementa el grandiente con x1 y x2 iniciales, tolerancia, y parametros\n",
    "# 10 iteraciones\n",
    "def metodoGradiente (eps, x1i, x2i, f):\n",
    "  gradienteInicialx1, gradienteInicialx2 = gradiente (x1i, x2i)\n",
    "  normaGradiente = math.sqrt((gradienteInicialx1 ** 2) + (gradienteInicialx2 ** 2))\n",
    "  if normaGradiente < eps:\n",
    "    print(\"Minimo en (x1, x2) = (\" +str(x10)+\", \"+str(x20)+\") con z = \" + str(valorMinimo) )\n",
    "  else:\n",
    "    x1n = x1i\n",
    "    x2n = x2i\n",
    "    cont = 0\n",
    "    for i in range(10):\n",
    "      min = (f.subs(x1,x1n)).subs(x2,x2n)\n",
    "#       print(min)\n",
    "      gx1,gx2 = gradiente(x1n, x2n)\n",
    "#       print(gx1,gx2)\n",
    "      f1d, f2d = (x1n-lam *gx1, x2n-lam *gx2)\n",
    "#       print(f1d,f2d)\n",
    "      aflambda = f.subs(x1,f1d)\n",
    "#       print(aflambda)\n",
    "      flambda = aflambda.subs(x2,f2d)\n",
    "#       print(flambda)\n",
    "      dflambda = sym.diff(flambda,lam)\n",
    "#       print(dflambda)\n",
    "      puntoMaxAux = solve(dflambda, lam)\n",
    "#       print(\"Lambda\" + str(puntoMaxAux))\n",
    "      puntoMax = puntoMaxAux[0]\n",
    "#       print(puntoMax)\n",
    "      normaGradiente = math.sqrt((gx1 ** 2) + (gx2 ** 2))\n",
    "      normas.append(normaGradiente)\n",
    "      print(\"Norma \" + str(normaGradiente))\n",
    "      if normaGradiente<eps and cont == 0 :\n",
    "        print(\"El método converge, mínimo f(x,y): \"+str(min))\n",
    "        cont +=1\n",
    "      else:\n",
    "        print (\"Iteracion \"+ str(i+1)+ \" Puntos: \"+ str(x1n) + \", \" + str(x2n)+ \" f(x,y): \"+ str(min)+ \".\")\n",
    "        gx1n,gx2n = gradiente(x1n, x2n)\n",
    "        x1n = x1n - puntoMax*gx1n\n",
    "        x2n = x2n - puntoMax*gx2n\n",
    "iteraciones = [1,2,3,4,5,6,7,8,9,10]\n",
    "normas = []\n",
    "metodoGradiente(eps, x1i, x2i, f)\n",
    "plt.scatter(iteraciones,normas)\n",
    "plt.plot(iteraciones,normas)\n",
    "plt.axis()\n",
    "\n",
    "plt.xlabel(\"Iteraciones\")\n",
    "plt.ylabel(\"Norma\")\n",
    "plt.show()\n",
    "\n",
    "        \n"
   ]
  },
  {
   "cell_type": "code",
   "execution_count": 84,
   "metadata": {},
   "outputs": [
    {
     "name": "stdout",
     "output_type": "stream",
     "text": [
      "10 10\n",
      "Matriz Hessiana Inversa\n",
      "Matrix([[10/99, 1/99], [1/99, 10/99]])\n",
      "Punto critico: {x: 1, y: -1}\n"
     ]
    }
   ],
   "source": [
    "\n",
    "x = sym.Symbol('x')\n",
    "y = sym.Symbol('y')\n",
    "#Funcion objetivo\n",
    "f = 5 *(x**2) + 5 *(y**2) - x*y - 11*x + 11*y + 11\n",
    "# Definimos metodo gradiente\n",
    "def calcularGradiente ():\n",
    "  gx,gy = sym.diff(f, x),sym.diff(f, y)\n",
    "  g = gx, gy\n",
    "  return g\n",
    "def calcularInversaHessiana ():\n",
    "  dfx,dfy = sym.diff(f,x),sym.diff(f,y)\n",
    "#   print(dfx,dfy)\n",
    "  dfxx,dfyy = sym.diff(dfx,x),sym.diff(dfy,y)\n",
    "#   print(dfxx,dfyy)\n",
    "  dfxy = sym.diff(dfx,y)\n",
    "#   print(dfxy)\n",
    "  xx,yy = int(dfxx.evalf()),int(dfyy.evalf())\n",
    "  print(xx,yy)\n",
    "  xy = int(dfxy.evalf())\n",
    "#   print(xy)\n",
    "  matrizHessiana = sym.Matrix([[xx, xy],[xy , yy]])\n",
    "#   print(matrizHessiana)\n",
    "  inversa = matrizHessiana **-1\n",
    "  print(\"Matriz Hessiana Inversa\")\n",
    "  print(inversa)\n",
    "  return inversa\n",
    "#Metodo de condiciones\n",
    "def condiciones():\n",
    "  gradx, grady = calcularGradiente()\n",
    "  puntoCritico = solve([gradx, grady], (x, y))\n",
    "  print(\"Punto critico: \"+ str(puntoCritico))\n",
    "calcularInversaHessiana ()\n",
    "condiciones()\n"
   ]
  },
  {
   "cell_type": "code",
   "execution_count": 117,
   "metadata": {},
   "outputs": [
    {
     "name": "stdout",
     "output_type": "stream",
     "text": [
      "10 10\n",
      "Matriz Hessiana Inversa\n",
      "Matrix([[10/99, 1/99], [1/99, 10/99]])\n",
      "15.556349186104045\n",
      "Iteracion: 1 Puntos: 0, 0 f(x,y):  11\n",
      "12.445079348883237\n",
      "Iteracion: 2 Puntos: 0.2, -0.2 f(x,y):  7.04000000000000\n",
      "9.333809511662427\n",
      "Iteracion: 3 Puntos: 0.4, -0.4 f(x,y):  3.96000000000000\n",
      "6.222539674441617\n",
      "Iteracion: 4 Puntos: 0.6000000000000001, -0.6000000000000001 f(x,y):  1.76000000000000\n",
      "3.1112698372208087\n",
      "Iteracion: 5 Puntos: 0.8, -0.8 f(x,y):  0.440000000000001\n",
      "0.0\n",
      "El método converge, mínimo: 0\n"
     ]
    }
   ],
   "source": [
    "eps = .05\n",
    "xi,y1 = 0,0\n",
    "paso = 0.2\n",
    "x,y = sym.Symbol('x'),sym.Symbol('y')\n",
    "lam = sym.Symbol('lam') #lambda\n",
    "#Funcion objetivo\n",
    "f = 5 *(x**2) + 5 *(y**2) - x*y - 11*x + 11*y + 11\n",
    "def normaGradiente(xn, yn):\n",
    "  gradx, grady = calcularGradiente()\n",
    "  gxn,gyn = float(((gradx.subs(x, xn)).subs(y, yn)).evalf()),float(((grady.subs(x, xn)).subs(y, yn)).evalf())\n",
    "  n = math.sqrt((gxn **2) + (gyn **2))\n",
    "  return n\n",
    "\n",
    "def algoritmoNewton(eps, xninicial, yninicial):\n",
    "  xn,yn = xninicial,yninicial\n",
    "  norma = normaGradiente(xn, xn)\n",
    "  inversaHessiana = calcularInversaHessiana()\n",
    "  for i in range(10):\n",
    "    minimo = (f.subs(x,xn)).subs(y,yn)\n",
    "    norma = normaGradiente(xn, yn)\n",
    "    print(norma)\n",
    "    if norma < eps:\n",
    "      print(\"El método converge, mínimo: \"+str(minimo))\n",
    "      break\n",
    "    else:\n",
    "      print (\"Iteracion: \"+ str(i+1)+ \" Puntos: \"+ str(xn) + \", \" + str(yn)+ \" f(x,y):  \"+ str(minimo))\n",
    "      norma = normaGradiente(xn, yn)\n",
    "      gradx, grady = calcularGradiente()\n",
    "      gradxn,gradyn = float(((gradx.subs(x, xninicial)).subs(y, yninicial)).evalf()),float(((grady.subs(x, xninicial)).subs(y, yninicial)).evalf())\n",
    "#       t = reglaDeArmijo(xn, yn)\n",
    "#       print(\"Armijo:\" +str(t))\n",
    "      gradiente = sym.Matrix([gradxn, gradyn])\n",
    "      xnMatriz = sym.Matrix([xn,yn]) - paso * inversaHessiana * gradiente\n",
    "      xn, yn = float(xnMatriz [0]), float(xnMatriz[1])\n",
    "algoritmoNewton(eps, xi, yi)"
   ]
  },
  {
   "cell_type": "code",
   "execution_count": null,
   "metadata": {},
   "outputs": [],
   "source": []
  }
 ],
 "metadata": {
  "kernelspec": {
   "display_name": "Python 3",
   "language": "python",
   "name": "python3"
  },
  "language_info": {
   "codemirror_mode": {
    "name": "ipython",
    "version": 3
   },
   "file_extension": ".py",
   "mimetype": "text/x-python",
   "name": "python",
   "nbconvert_exporter": "python",
   "pygments_lexer": "ipython3",
   "version": "3.8.5"
  }
 },
 "nbformat": 4,
 "nbformat_minor": 4
}
